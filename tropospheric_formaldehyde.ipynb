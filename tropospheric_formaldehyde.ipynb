{
  "nbformat": 4,
  "nbformat_minor": 0,
  "metadata": {
    "colab": {
      "provenance": [],
      "authorship_tag": "ABX9TyO8+muEYIj38gDkhekxgcrw",
      "include_colab_link": true
    },
    "kernelspec": {
      "name": "python3",
      "display_name": "Python 3"
    },
    "language_info": {
      "name": "python"
    }
  },
  "cells": [
    {
      "cell_type": "markdown",
      "metadata": {
        "id": "view-in-github",
        "colab_type": "text"
      },
      "source": [
        "<a href=\"https://colab.research.google.com/github/Exper626/Census-Income-ML/blob/main/tropospheric_formaldehyde.ipynb\" target=\"_parent\"><img src=\"https://colab.research.google.com/assets/colab-badge.svg\" alt=\"Open In Colab\"/></a>"
      ]
    },
    {
      "cell_type": "markdown",
      "source": [
        "Necessary Imports"
      ],
      "metadata": {
        "id": "JB9ILiy7jXuD"
      }
    },
    {
      "cell_type": "code",
      "execution_count": 1,
      "metadata": {
        "id": "xtLo_8t_2A-9",
        "colab": {
          "base_uri": "https://localhost:8080/"
        },
        "outputId": "a8c224c4-799f-44f9-975a-6234ac6a729d"
      },
      "outputs": [
        {
          "output_type": "stream",
          "name": "stdout",
          "text": [
            "Collecting pyspark\n",
            "  Downloading pyspark-3.5.1.tar.gz (317.0 MB)\n",
            "\u001b[2K     \u001b[90m━━━━━━━━━━━━━━━━━━━━━━━━━━━━━━━━━━━━━━━━\u001b[0m \u001b[32m317.0/317.0 MB\u001b[0m \u001b[31m4.7 MB/s\u001b[0m eta \u001b[36m0:00:00\u001b[0m\n",
            "\u001b[?25h  Preparing metadata (setup.py) ... \u001b[?25l\u001b[?25hdone\n",
            "Requirement already satisfied: py4j==0.10.9.7 in /usr/local/lib/python3.10/dist-packages (from pyspark) (0.10.9.7)\n",
            "Building wheels for collected packages: pyspark\n",
            "  Building wheel for pyspark (setup.py) ... \u001b[?25l\u001b[?25hdone\n",
            "  Created wheel for pyspark: filename=pyspark-3.5.1-py2.py3-none-any.whl size=317488491 sha256=998c89e8b9b6025cfce8a0f71f133ebfe7245a333084f01807cc49e5a6b86b43\n",
            "  Stored in directory: /root/.cache/pip/wheels/80/1d/60/2c256ed38dddce2fdd93be545214a63e02fbd8d74fb0b7f3a6\n",
            "Successfully built pyspark\n",
            "Installing collected packages: pyspark\n",
            "Successfully installed pyspark-3.5.1\n"
          ]
        }
      ],
      "source": [
        "!pip install pyspark"
      ]
    },
    {
      "cell_type": "code",
      "source": [
        "from pyspark.sql import SparkSession\n",
        "from pyspark.sql.functions import *\n",
        "from pyspark.sql.types import *"
      ],
      "metadata": {
        "id": "vw7J0UigjWpL"
      },
      "execution_count": 2,
      "outputs": []
    },
    {
      "cell_type": "markdown",
      "source": [
        "Start a SparkSession"
      ],
      "metadata": {
        "id": "xxuhClm1ozVi"
      }
    },
    {
      "cell_type": "code",
      "source": [
        "spark = SparkSession.builder.appName(\"Formaldehyde\").getOrCreate()"
      ],
      "metadata": {
        "id": "roJxT_m-j68M"
      },
      "execution_count": 4,
      "outputs": []
    },
    {
      "cell_type": "markdown",
      "source": [
        "Load the data"
      ],
      "metadata": {
        "id": "XQHvm1ThqTOM"
      }
    },
    {
      "cell_type": "code",
      "source": [
        "cmb_nuw_mat = spark.read.csv(\"/content/col_mat_nuw_output.csv\", inferSchema=True)\n",
        "kandy = spark.read.csv(\"/content/kan_output.csv\", inferSchema=True)\n",
        "jaf_kur_mon = spark.read.csv(\"/content/mon_kur_jaf_output.csv\", inferSchema=True)"
      ],
      "metadata": {
        "id": "Y4QgIaUyj7Pf"
      },
      "execution_count": 5,
      "outputs": []
    },
    {
      "cell_type": "markdown",
      "source": [
        "# Exploratory data analysis and Data Pre-processing"
      ],
      "metadata": {
        "id": "F-AhxXKKpuj6"
      }
    },
    {
      "cell_type": "code",
      "source": [
        "data_frames = [(\"Colombo, Deniyaya, Matara, Nuwara Eliya\", cmb_nuw_mat), (\"Kandy\", kandy), (\"Bibile, Monaragala, Kurunegala, Jaffna\", jaf_kur_mon)]"
      ],
      "metadata": {
        "id": "DpLbu4m0sygY"
      },
      "execution_count": 6,
      "outputs": []
    },
    {
      "cell_type": "markdown",
      "source": [
        "first rows of the dataframe"
      ],
      "metadata": {
        "id": "LMkXwrrmqnLu"
      }
    },
    {
      "cell_type": "code",
      "source": [
        "for name, df in data_frames:\n",
        "    print(\"City:\", name)\n",
        "    df.show()"
      ],
      "metadata": {
        "colab": {
          "base_uri": "https://localhost:8080/"
        },
        "id": "KfOs2l8wtCmk",
        "outputId": "02e9195f-2a7c-4b10-c3d6-c9369c9b9617"
      },
      "execution_count": 7,
      "outputs": [
        {
          "output_type": "stream",
          "name": "stdout",
          "text": [
            "City: Colombo, Deniyaya, Matara, Nuwara Eliya\n",
            "+--------------------+--------------+----------+----------+\n",
            "|                 _c0|           _c1|       _c2|       _c3|\n",
            "+--------------------+--------------+----------+----------+\n",
            "|1.969834395781014...|Colombo Proper|2019-01-01|2019-01-02|\n",
            "|2.625522171968594...|Colombo Proper|2019-01-02|2019-01-03|\n",
            "|9.852118897938794E-5|Colombo Proper|2019-01-03|2019-01-04|\n",
            "|2.099320518114242E-4|Colombo Proper|2019-01-04|2019-01-05|\n",
            "|1.785337298892930...|Colombo Proper|2019-01-05|2019-01-06|\n",
            "|1.082296700235670...|Colombo Proper|2019-01-06|2019-01-07|\n",
            "|3.926829280477309...|Colombo Proper|2019-01-07|2019-01-08|\n",
            "|9.153156350685351E-5|Colombo Proper|2019-01-08|2019-01-09|\n",
            "|1.205978992853015...|Colombo Proper|2019-01-09|2019-01-10|\n",
            "|1.297723562983258...|Colombo Proper|2019-01-10|2019-01-11|\n",
            "|2.239188166801278...|Colombo Proper|2019-01-11|2019-01-12|\n",
            "|1.569418094178759...|Colombo Proper|2019-01-12|2019-01-13|\n",
            "|                NULL|Colombo Proper|2019-01-13|2019-01-14|\n",
            "|1.336291906862603...|Colombo Proper|2019-01-14|2019-01-15|\n",
            "|6.374417842690063E-5|Colombo Proper|2019-01-15|2019-01-16|\n",
            "|1.181062250815020...|Colombo Proper|2019-01-16|2019-01-17|\n",
            "|2.472555222423037...|Colombo Proper|2019-01-17|2019-01-18|\n",
            "|3.667525352047757E-5|Colombo Proper|2019-01-18|2019-01-19|\n",
            "|4.057500868150313E-4|Colombo Proper|2019-01-19|2019-01-20|\n",
            "|1.687856216479722...|Colombo Proper|2019-01-20|2019-01-21|\n",
            "+--------------------+--------------+----------+----------+\n",
            "only showing top 20 rows\n",
            "\n",
            "City: Kandy\n",
            "+--------------------+------------+----------+----------+\n",
            "|                 _c0|         _c1|       _c2|       _c3|\n",
            "+--------------------+------------+----------+----------+\n",
            "|1.760713459877335...|Kandy Proper|2019-01-01|2019-01-02|\n",
            "|9.220391253917748E-5|Kandy Proper|2019-01-02|2019-01-03|\n",
            "|                NULL|Kandy Proper|2019-01-03|2019-01-04|\n",
            "|1.908681983853839...|Kandy Proper|2019-01-04|2019-01-05|\n",
            "|1.219517840206744...|Kandy Proper|2019-01-05|2019-01-06|\n",
            "|-6.51408612938880...|Kandy Proper|2019-01-06|2019-01-07|\n",
            "|  1.6323820639265E-4|Kandy Proper|2019-01-07|2019-01-08|\n",
            "|-6.73520553391426...|Kandy Proper|2019-01-08|2019-01-09|\n",
            "|1.279693658243135...|Kandy Proper|2019-01-09|2019-01-10|\n",
            "|4.546048424126012E-5|Kandy Proper|2019-01-10|2019-01-11|\n",
            "|3.600074175192105E-5|Kandy Proper|2019-01-11|2019-01-12|\n",
            "|1.286629698010177E-4|Kandy Proper|2019-01-12|2019-01-13|\n",
            "|                NULL|Kandy Proper|2019-01-13|2019-01-14|\n",
            "|                NULL|Kandy Proper|2019-01-14|2019-01-15|\n",
            "| 9.63639634671553E-5|Kandy Proper|2019-01-15|2019-01-16|\n",
            "|                NULL|Kandy Proper|2019-01-16|2019-01-17|\n",
            "|1.200971278484736...|Kandy Proper|2019-01-17|2019-01-18|\n",
            "|-1.19724656713695...|Kandy Proper|2019-01-18|2019-01-19|\n",
            "|2.825263761529470...|Kandy Proper|2019-01-19|2019-01-20|\n",
            "|7.150631692646835E-5|Kandy Proper|2019-01-20|2019-01-21|\n",
            "+--------------------+------------+----------+----------+\n",
            "only showing top 20 rows\n",
            "\n",
            "City: Bibile, Monaragala, Kurunegala, Jaffna\n",
            "+--------------------+------------------+----------+----------+\n",
            "|                 _c0|               _c1|       _c2|       _c3|\n",
            "+--------------------+------------------+----------+----------+\n",
            "|                NULL|Bibile, Monaragala|2019-01-01|2019-01-02|\n",
            "|1.919914652467399E-5|Bibile, Monaragala|2019-01-02|2019-01-03|\n",
            "|2.811447935930283...|Bibile, Monaragala|2019-01-03|2019-01-04|\n",
            "|3.747998184385943E-5|Bibile, Monaragala|2019-01-04|2019-01-05|\n",
            "|-1.79826087934531...|Bibile, Monaragala|2019-01-05|2019-01-06|\n",
            "|1.457836896179902...|Bibile, Monaragala|2019-01-06|2019-01-07|\n",
            "|2.828590802546534...|Bibile, Monaragala|2019-01-07|2019-01-08|\n",
            "|                NULL|Bibile, Monaragala|2019-01-08|2019-01-09|\n",
            "|1.420850167050957...|Bibile, Monaragala|2019-01-09|2019-01-10|\n",
            "|                NULL|Bibile, Monaragala|2019-01-10|2019-01-11|\n",
            "|2.014587947072581E-5|Bibile, Monaragala|2019-01-11|2019-01-12|\n",
            "|1.582787663210183...|Bibile, Monaragala|2019-01-12|2019-01-13|\n",
            "|                NULL|Bibile, Monaragala|2019-01-13|2019-01-14|\n",
            "|                NULL|Bibile, Monaragala|2019-01-14|2019-01-15|\n",
            "|9.952823849642218E-5|Bibile, Monaragala|2019-01-15|2019-01-16|\n",
            "|7.484570960514249E-5|Bibile, Monaragala|2019-01-16|2019-01-17|\n",
            "|7.736112226328797E-5|Bibile, Monaragala|2019-01-17|2019-01-18|\n",
            "|                NULL|Bibile, Monaragala|2019-01-18|2019-01-19|\n",
            "|3.988141010407665...|Bibile, Monaragala|2019-01-19|2019-01-20|\n",
            "|1.891620203853342...|Bibile, Monaragala|2019-01-20|2019-01-21|\n",
            "+--------------------+------------------+----------+----------+\n",
            "only showing top 20 rows\n",
            "\n"
          ]
        }
      ]
    },
    {
      "cell_type": "markdown",
      "source": [
        "Meta data"
      ],
      "metadata": {
        "id": "UIxBNEBTrPn1"
      }
    },
    {
      "cell_type": "code",
      "source": [
        "for name, df in data_frames:\n",
        "  print(\"City: \", name)\n",
        "  df.printSchema()"
      ],
      "metadata": {
        "colab": {
          "base_uri": "https://localhost:8080/"
        },
        "id": "CCUm38BduhOm",
        "outputId": "ae439e37-970e-4fe1-8885-3de279299bce"
      },
      "execution_count": 8,
      "outputs": [
        {
          "output_type": "stream",
          "name": "stdout",
          "text": [
            "City:  Colombo, Deniyaya, Matara, Nuwara Eliya\n",
            "root\n",
            " |-- _c0: double (nullable = true)\n",
            " |-- _c1: string (nullable = true)\n",
            " |-- _c2: date (nullable = true)\n",
            " |-- _c3: date (nullable = true)\n",
            "\n",
            "City:  Kandy\n",
            "root\n",
            " |-- _c0: double (nullable = true)\n",
            " |-- _c1: string (nullable = true)\n",
            " |-- _c2: date (nullable = true)\n",
            " |-- _c3: date (nullable = true)\n",
            "\n",
            "City:  Bibile, Monaragala, Kurunegala, Jaffna\n",
            "root\n",
            " |-- _c0: double (nullable = true)\n",
            " |-- _c1: string (nullable = true)\n",
            " |-- _c2: date (nullable = true)\n",
            " |-- _c3: date (nullable = true)\n",
            "\n"
          ]
        }
      ]
    },
    {
      "cell_type": "markdown",
      "source": [
        "check the number of rows"
      ],
      "metadata": {
        "id": "aYTkQdl3sHve"
      }
    },
    {
      "cell_type": "code",
      "source": [
        "for name, df in data_frames:\n",
        "    count = df.count()\n",
        "    print(f\"City: {name}, Rows: {count}\")"
      ],
      "metadata": {
        "colab": {
          "base_uri": "https://localhost:8080/"
        },
        "id": "HCZSMONWu25A",
        "outputId": "4c321074-2f1a-4c85-e2db-5cc7bfe09afc"
      },
      "execution_count": 9,
      "outputs": [
        {
          "output_type": "stream",
          "name": "stdout",
          "text": [
            "City: Colombo, Deniyaya, Matara, Nuwara Eliya, Rows: 5478\n",
            "City: Kandy, Rows: 1826\n",
            "City: Bibile, Monaragala, Kurunegala, Jaffna, Rows: 5478\n"
          ]
        }
      ]
    },
    {
      "cell_type": "markdown",
      "source": [
        "combine all of them into one"
      ],
      "metadata": {
        "id": "RsdPLdYK2ZpM"
      }
    },
    {
      "cell_type": "code",
      "source": [
        "sl_hcho = cmb_nuw_mat.union(kandy).union(jaf_kur_mon)"
      ],
      "metadata": {
        "id": "6NTueO8y2cI4"
      },
      "execution_count": 10,
      "outputs": []
    },
    {
      "cell_type": "code",
      "source": [
        "sl_hcho = sl_hcho.withColumnRenamed(\"_c0\", \"HCHO_reading\").withColumnRenamed(\"_c1\", \"Location\").withColumnRenamed(\"_c2\", \"Current_date\").withColumnRenamed(\"_c3\", \"Next_date\")"
      ],
      "metadata": {
        "id": "2dUFZVJ23LBv"
      },
      "execution_count": 11,
      "outputs": []
    },
    {
      "cell_type": "code",
      "source": [
        "sl_hcho.show()"
      ],
      "metadata": {
        "colab": {
          "base_uri": "https://localhost:8080/"
        },
        "id": "h55DPA1u3vld",
        "outputId": "40c6b2da-b9bc-42b8-f2e9-a6f83317e7b6"
      },
      "execution_count": 12,
      "outputs": [
        {
          "output_type": "stream",
          "name": "stdout",
          "text": [
            "+--------------------+--------------+------------+----------+\n",
            "|        HCHO_reading|      Location|Current_date| Next_date|\n",
            "+--------------------+--------------+------------+----------+\n",
            "|1.969834395781014...|Colombo Proper|  2019-01-01|2019-01-02|\n",
            "|2.625522171968594...|Colombo Proper|  2019-01-02|2019-01-03|\n",
            "|9.852118897938794E-5|Colombo Proper|  2019-01-03|2019-01-04|\n",
            "|2.099320518114242E-4|Colombo Proper|  2019-01-04|2019-01-05|\n",
            "|1.785337298892930...|Colombo Proper|  2019-01-05|2019-01-06|\n",
            "|1.082296700235670...|Colombo Proper|  2019-01-06|2019-01-07|\n",
            "|3.926829280477309...|Colombo Proper|  2019-01-07|2019-01-08|\n",
            "|9.153156350685351E-5|Colombo Proper|  2019-01-08|2019-01-09|\n",
            "|1.205978992853015...|Colombo Proper|  2019-01-09|2019-01-10|\n",
            "|1.297723562983258...|Colombo Proper|  2019-01-10|2019-01-11|\n",
            "|2.239188166801278...|Colombo Proper|  2019-01-11|2019-01-12|\n",
            "|1.569418094178759...|Colombo Proper|  2019-01-12|2019-01-13|\n",
            "|                NULL|Colombo Proper|  2019-01-13|2019-01-14|\n",
            "|1.336291906862603...|Colombo Proper|  2019-01-14|2019-01-15|\n",
            "|6.374417842690063E-5|Colombo Proper|  2019-01-15|2019-01-16|\n",
            "|1.181062250815020...|Colombo Proper|  2019-01-16|2019-01-17|\n",
            "|2.472555222423037...|Colombo Proper|  2019-01-17|2019-01-18|\n",
            "|3.667525352047757E-5|Colombo Proper|  2019-01-18|2019-01-19|\n",
            "|4.057500868150313E-4|Colombo Proper|  2019-01-19|2019-01-20|\n",
            "|1.687856216479722...|Colombo Proper|  2019-01-20|2019-01-21|\n",
            "+--------------------+--------------+------------+----------+\n",
            "only showing top 20 rows\n",
            "\n"
          ]
        }
      ]
    },
    {
      "cell_type": "code",
      "source": [
        "sl_hcho.count()"
      ],
      "metadata": {
        "colab": {
          "base_uri": "https://localhost:8080/"
        },
        "id": "tDfuHqpg4Hir",
        "outputId": "a3c13fdf-23db-4d16-9425-cfeaa83b36bc"
      },
      "execution_count": 13,
      "outputs": [
        {
          "output_type": "execute_result",
          "data": {
            "text/plain": [
              "12782"
            ]
          },
          "metadata": {},
          "execution_count": 13
        }
      ]
    },
    {
      "cell_type": "markdown",
      "source": [
        "check the number of rows via location"
      ],
      "metadata": {
        "id": "KmAp8MAl4xAp"
      }
    },
    {
      "cell_type": "code",
      "source": [
        "sl_hcho.groupBy(\"Location\").count().show()"
      ],
      "metadata": {
        "colab": {
          "base_uri": "https://localhost:8080/"
        },
        "id": "WeWkx72A41Yn",
        "outputId": "87935012-b572-4794-f21c-fa57ee087772"
      },
      "execution_count": 14,
      "outputs": [
        {
          "output_type": "stream",
          "name": "stdout",
          "text": [
            "+-------------------+-----+\n",
            "|           Location|count|\n",
            "+-------------------+-----+\n",
            "|   Deniyaya, Matara| 1826|\n",
            "|     Colombo Proper| 1826|\n",
            "|Nuwara Eliya Proper| 1826|\n",
            "|       Kandy Proper| 1826|\n",
            "|  Kurunegala Proper| 1826|\n",
            "| Bibile, Monaragala| 1826|\n",
            "|      Jaffna Proper| 1826|\n",
            "+-------------------+-----+\n",
            "\n"
          ]
        }
      ]
    },
    {
      "cell_type": "markdown",
      "source": [
        "check for null values in cities"
      ],
      "metadata": {
        "id": "AhZtlWulOCv5"
      }
    },
    {
      "cell_type": "code",
      "source": [
        "city_null = sl_hcho.filter(col(\"Location\").isNull()).count()\n",
        "print(\"NULL values in 'Location':\", city_null)"
      ],
      "metadata": {
        "colab": {
          "base_uri": "https://localhost:8080/"
        },
        "id": "8sdHK8sROF2I",
        "outputId": "d66998f1-3707-45f3-90ac-798f1b24110e"
      },
      "execution_count": 15,
      "outputs": [
        {
          "output_type": "stream",
          "name": "stdout",
          "text": [
            "NULL values in 'Location': 0\n"
          ]
        }
      ]
    },
    {
      "cell_type": "markdown",
      "source": [
        "check for the null values in the HCHO reading"
      ],
      "metadata": {
        "id": "3rmkhXzeLGEa"
      }
    },
    {
      "cell_type": "code",
      "source": [
        "check_null = sl_hcho.filter(col(\"HCHO_reading\").isNull()).count()\n",
        "print(\"NULL values in 'HCHO_reading':\", check_null)"
      ],
      "metadata": {
        "id": "xF04txY95SMn",
        "colab": {
          "base_uri": "https://localhost:8080/"
        },
        "outputId": "efc399f9-aacc-4d90-9f80-5a71d7658f8d"
      },
      "execution_count": 16,
      "outputs": [
        {
          "output_type": "stream",
          "name": "stdout",
          "text": [
            "NULL values in 'HCHO_reading': 4864\n"
          ]
        }
      ]
    },
    {
      "cell_type": "markdown",
      "source": [
        "check null values for each city"
      ],
      "metadata": {
        "id": "carEvg2tLq5s"
      }
    },
    {
      "cell_type": "code",
      "source": [
        "null_city = sl_hcho.filter(col(\"HCHO_reading\").isNull()).groupBy(\"Location\").count()\n",
        "null_city.show()"
      ],
      "metadata": {
        "colab": {
          "base_uri": "https://localhost:8080/"
        },
        "id": "aFwu_qRHLvSa",
        "outputId": "7f759aca-8fc2-49fa-d49b-cb9a5fc79139"
      },
      "execution_count": 17,
      "outputs": [
        {
          "output_type": "stream",
          "name": "stdout",
          "text": [
            "+-------------------+-----+\n",
            "|           Location|count|\n",
            "+-------------------+-----+\n",
            "|   Deniyaya, Matara|  847|\n",
            "|     Colombo Proper|  487|\n",
            "|Nuwara Eliya Proper| 1085|\n",
            "|       Kandy Proper|  793|\n",
            "|  Kurunegala Proper|  592|\n",
            "| Bibile, Monaragala|  695|\n",
            "|      Jaffna Proper|  365|\n",
            "+-------------------+-----+\n",
            "\n"
          ]
        }
      ]
    },
    {
      "cell_type": "markdown",
      "source": [
        "check for dates with errors"
      ],
      "metadata": {
        "id": "gE7ENTbGNYJn"
      }
    },
    {
      "cell_type": "code",
      "source": [
        "date_error = sl_hcho.filter(col(\"Current_date\").isNull() & col(\"Next_date\").isNull())\n",
        "date_error.show()"
      ],
      "metadata": {
        "colab": {
          "base_uri": "https://localhost:8080/"
        },
        "id": "h6TQCjiUNawO",
        "outputId": "fb8cc25a-23ed-44ba-fdca-1ce4bd5bf0f9"
      },
      "execution_count": 18,
      "outputs": [
        {
          "output_type": "stream",
          "name": "stdout",
          "text": [
            "+------------+--------+------------+---------+\n",
            "|HCHO_reading|Location|Current_date|Next_date|\n",
            "+------------+--------+------------+---------+\n",
            "+------------+--------+------------+---------+\n",
            "\n"
          ]
        }
      ]
    },
    {
      "cell_type": "code",
      "source": [
        "sl_hcho.printSchema()"
      ],
      "metadata": {
        "colab": {
          "base_uri": "https://localhost:8080/"
        },
        "id": "gYmFXbQIOZas",
        "outputId": "e6a4ef18-7c7e-4fa4-88e4-befe3ed95958"
      },
      "execution_count": 19,
      "outputs": [
        {
          "output_type": "stream",
          "name": "stdout",
          "text": [
            "root\n",
            " |-- HCHO_reading: double (nullable = true)\n",
            " |-- Location: string (nullable = true)\n",
            " |-- Current_date: date (nullable = true)\n",
            " |-- Next_date: date (nullable = true)\n",
            "\n"
          ]
        }
      ]
    },
    {
      "cell_type": "code",
      "source": [
        "# Columns to check for format inconsistencies\n",
        "columns_to_check = [\"Current_date\", \"Next_date\"]\n",
        "\n",
        "# Iterate over each column\n",
        "for column in columns_to_check:\n",
        "    # Convert the column to a string format\n",
        "    sl_hcho = sl_hcho.withColumn(f\"{column}_str\", col(column).cast(\"string\"))\n",
        "\n",
        "    # Check for variations in the string format of dates\n",
        "    format_inconsistencies = sl_hcho.groupBy(f\"{column}_str\").count().orderBy(f\"{column}_str\")\n",
        "\n",
        "    # Show the format inconsistencies\n",
        "    print(f\"Format inconsistencies in {column}:\")\n",
        "    format_inconsistencies.show(truncate=False)\n"
      ],
      "metadata": {
        "colab": {
          "base_uri": "https://localhost:8080/"
        },
        "id": "NLx5d9TtuYT0",
        "outputId": "c586d438-db3c-4901-b908-0337a8265c1d"
      },
      "execution_count": 20,
      "outputs": [
        {
          "output_type": "stream",
          "name": "stdout",
          "text": [
            "Format inconsistencies in Current_date:\n",
            "+----------------+-----+\n",
            "|Current_date_str|count|\n",
            "+----------------+-----+\n",
            "|2019-01-01      |7    |\n",
            "|2019-01-02      |7    |\n",
            "|2019-01-03      |7    |\n",
            "|2019-01-04      |7    |\n",
            "|2019-01-05      |7    |\n",
            "|2019-01-06      |7    |\n",
            "|2019-01-07      |7    |\n",
            "|2019-01-08      |7    |\n",
            "|2019-01-09      |7    |\n",
            "|2019-01-10      |7    |\n",
            "|2019-01-11      |7    |\n",
            "|2019-01-12      |7    |\n",
            "|2019-01-13      |7    |\n",
            "|2019-01-14      |7    |\n",
            "|2019-01-15      |7    |\n",
            "|2019-01-16      |7    |\n",
            "|2019-01-17      |7    |\n",
            "|2019-01-18      |7    |\n",
            "|2019-01-19      |7    |\n",
            "|2019-01-20      |7    |\n",
            "+----------------+-----+\n",
            "only showing top 20 rows\n",
            "\n",
            "Format inconsistencies in Next_date:\n",
            "+-------------+-----+\n",
            "|Next_date_str|count|\n",
            "+-------------+-----+\n",
            "|2019-01-02   |7    |\n",
            "|2019-01-03   |7    |\n",
            "|2019-01-04   |7    |\n",
            "|2019-01-05   |7    |\n",
            "|2019-01-06   |7    |\n",
            "|2019-01-07   |7    |\n",
            "|2019-01-08   |7    |\n",
            "|2019-01-09   |7    |\n",
            "|2019-01-10   |7    |\n",
            "|2019-01-11   |7    |\n",
            "|2019-01-12   |7    |\n",
            "|2019-01-13   |7    |\n",
            "|2019-01-14   |7    |\n",
            "|2019-01-15   |7    |\n",
            "|2019-01-16   |7    |\n",
            "|2019-01-17   |7    |\n",
            "|2019-01-18   |7    |\n",
            "|2019-01-19   |7    |\n",
            "|2019-01-20   |7    |\n",
            "|2019-01-21   |7    |\n",
            "+-------------+-----+\n",
            "only showing top 20 rows\n",
            "\n"
          ]
        }
      ]
    },
    {
      "cell_type": "markdown",
      "source": [
        "Imports to use pandas and plots"
      ],
      "metadata": {
        "id": "2XBAIPZpv4Ok"
      }
    },
    {
      "cell_type": "code",
      "source": [
        "import pandas as pd\n",
        "import matplotlib.pyplot as plt\n",
        "%matplotlib inline\n",
        "import seaborn as sns"
      ],
      "metadata": {
        "id": "DFGyLW4xSccS"
      },
      "execution_count": 21,
      "outputs": []
    },
    {
      "cell_type": "markdown",
      "source": [
        "spark to pandas"
      ],
      "metadata": {
        "id": "6P37rSE_TZK1"
      }
    },
    {
      "cell_type": "code",
      "source": [
        "hcho_fill = sl_hcho.toPandas()"
      ],
      "metadata": {
        "id": "-K9R0l5ITbQm"
      },
      "execution_count": 22,
      "outputs": []
    },
    {
      "cell_type": "markdown",
      "source": [
        "Linear Interpolation and convert back"
      ],
      "metadata": {
        "id": "kXSPal_hVvSy"
      }
    },
    {
      "cell_type": "code",
      "source": [
        "hcho_filled = hcho_fill.interpolate(method=\"linear\")"
      ],
      "metadata": {
        "id": "jhmfCJHNVylH"
      },
      "execution_count": 36,
      "outputs": []
    },
    {
      "cell_type": "code",
      "source": [
        "sl_hcho = spark.createDataFrame(pd.DataFrame(hcho_filled))"
      ],
      "metadata": {
        "id": "VB6BtV0G1C9M"
      },
      "execution_count": 40,
      "outputs": []
    },
    {
      "cell_type": "code",
      "source": [
        "sl_hcho.show()"
      ],
      "metadata": {
        "colab": {
          "base_uri": "https://localhost:8080/"
        },
        "id": "ZkGqbd5CYt57",
        "outputId": "41349cfd-e605-4b19-f690-29d7f6e21c3b"
      },
      "execution_count": 24,
      "outputs": [
        {
          "output_type": "stream",
          "name": "stdout",
          "text": [
            "+--------------------+--------------+------------+----------+----------------+-------------+\n",
            "|        HCHO_reading|      Location|Current_date| Next_date|Current_date_str|Next_date_str|\n",
            "+--------------------+--------------+------------+----------+----------------+-------------+\n",
            "|1.969834395781014...|Colombo Proper|  2019-01-01|2019-01-02|      2019-01-01|   2019-01-02|\n",
            "|2.625522171968594...|Colombo Proper|  2019-01-02|2019-01-03|      2019-01-02|   2019-01-03|\n",
            "|9.852118897938794E-5|Colombo Proper|  2019-01-03|2019-01-04|      2019-01-03|   2019-01-04|\n",
            "|2.099320518114242E-4|Colombo Proper|  2019-01-04|2019-01-05|      2019-01-04|   2019-01-05|\n",
            "|1.785337298892930...|Colombo Proper|  2019-01-05|2019-01-06|      2019-01-05|   2019-01-06|\n",
            "|1.082296700235670...|Colombo Proper|  2019-01-06|2019-01-07|      2019-01-06|   2019-01-07|\n",
            "|3.926829280477309...|Colombo Proper|  2019-01-07|2019-01-08|      2019-01-07|   2019-01-08|\n",
            "|9.153156350685351E-5|Colombo Proper|  2019-01-08|2019-01-09|      2019-01-08|   2019-01-09|\n",
            "|1.205978992853015...|Colombo Proper|  2019-01-09|2019-01-10|      2019-01-09|   2019-01-10|\n",
            "|1.297723562983258...|Colombo Proper|  2019-01-10|2019-01-11|      2019-01-10|   2019-01-11|\n",
            "|2.239188166801278...|Colombo Proper|  2019-01-11|2019-01-12|      2019-01-11|   2019-01-12|\n",
            "|1.569418094178759...|Colombo Proper|  2019-01-12|2019-01-13|      2019-01-12|   2019-01-13|\n",
            "|1.452855000520681...|Colombo Proper|  2019-01-13|2019-01-14|      2019-01-13|   2019-01-14|\n",
            "|1.336291906862603...|Colombo Proper|  2019-01-14|2019-01-15|      2019-01-14|   2019-01-15|\n",
            "|6.374417842690063E-5|Colombo Proper|  2019-01-15|2019-01-16|      2019-01-15|   2019-01-16|\n",
            "|1.181062250815020...|Colombo Proper|  2019-01-16|2019-01-17|      2019-01-16|   2019-01-17|\n",
            "|2.472555222423037...|Colombo Proper|  2019-01-17|2019-01-18|      2019-01-17|   2019-01-18|\n",
            "|3.667525352047757E-5|Colombo Proper|  2019-01-18|2019-01-19|      2019-01-18|   2019-01-19|\n",
            "|4.057500868150313E-4|Colombo Proper|  2019-01-19|2019-01-20|      2019-01-19|   2019-01-20|\n",
            "|1.687856216479722...|Colombo Proper|  2019-01-20|2019-01-21|      2019-01-20|   2019-01-21|\n",
            "+--------------------+--------------+------------+----------+----------------+-------------+\n",
            "only showing top 20 rows\n",
            "\n"
          ]
        }
      ]
    },
    {
      "cell_type": "markdown",
      "source": [
        "outlier detection and handling"
      ],
      "metadata": {
        "id": "geB40nWsi3Ch"
      }
    },
    {
      "cell_type": "code",
      "source": [
        "def outlier_detection(dataframe, column, factor=1.5):\n",
        "    # Calculate quartiles and IQR\n",
        "    Q1 = dataframe.approxQuantile(column, [0.25], 0.01)[0]\n",
        "    Q3 = dataframe.approxQuantile(column, [0.75], 0.01)[0]\n",
        "    IQR = Q3 - Q1\n",
        "\n",
        "    # Define lower and upper whiskers\n",
        "    lower_whisker = Q1 - factor * IQR\n",
        "    upper_whisker = Q3 + factor * IQR\n",
        "\n",
        "    # Identify outliers\n",
        "    outliers = dataframe.filter((col(column) < lower_whisker) | (col(column) > upper_whisker))\n",
        "\n",
        "    return outliers"
      ],
      "metadata": {
        "id": "ScjIAFqaTIDn"
      },
      "execution_count": 25,
      "outputs": []
    },
    {
      "cell_type": "code",
      "source": [
        "hcho_reading = sl_hcho.toPandas()\n",
        "\n",
        "plt.figure(figsize=(8, 6))\n",
        "plt.boxplot(hcho_reading[\"HCHO_reading\"], vert=False)\n",
        "plt.title('Boxplot - HCHO_reading')\n",
        "plt.xlabel('HCHO_reading')\n",
        "plt.ylabel('Distribution')\n",
        "plt.grid(True)\n",
        "plt.show()"
      ],
      "metadata": {
        "id": "gDmEfxCgqbQV",
        "colab": {
          "base_uri": "https://localhost:8080/",
          "height": 564
        },
        "outputId": "be7e6c8e-5051-44bf-cf7e-6d2e2fe2bf3b"
      },
      "execution_count": 26,
      "outputs": [
        {
          "output_type": "display_data",
          "data": {
            "text/plain": [
              "<Figure size 800x600 with 1 Axes>"
            ],
            "image/png": "[encoded data removed]"
          },
          "metadata": {}
        }
      ]
    },
    {
      "cell_type": "code",
      "source": [
        "# Detect outliers in the HCHO readings column\n",
        "outliers_hcho = outlier_detection(sl_hcho, 'HCHO_reading')\n",
        "print(\"The number of outliers in HCHO reading column :\", outliers_hcho.count())\n",
        "print(\"The number of rows in the dataframe :\", sl_hcho.count())"
      ],
      "metadata": {
        "id": "N06xhLqrqf1_",
        "colab": {
          "base_uri": "https://localhost:8080/"
        },
        "outputId": "593526f9-7bac-4563-b435-e982221f16c2"
      },
      "execution_count": 27,
      "outputs": [
        {
          "output_type": "stream",
          "name": "stdout",
          "text": [
            "The number of outliers in HCHO reading column : 358\n",
            "The number of rows in the dataframe : 12782\n"
          ]
        }
      ]
    },
    {
      "cell_type": "code",
      "source": [
        "sl_hcho = sl_hcho.subtract(outliers_hcho)\n",
        "print(\"The number of rows in the dataframe :\", sl_hcho.count())"
      ],
      "metadata": {
        "id": "RAEdBJc1qwA0",
        "colab": {
          "base_uri": "https://localhost:8080/"
        },
        "outputId": "cb5a63e9-72dc-49b8-af37-7864419b6654"
      },
      "execution_count": 28,
      "outputs": [
        {
          "output_type": "stream",
          "name": "stdout",
          "text": [
            "The number of rows in the dataframe : 12424\n"
          ]
        }
      ]
    },
    {
      "cell_type": "code",
      "source": [
        "hcho_reading_data = sl_hcho.toPandas()\n",
        "\n",
        "plt.figure(figsize=(8, 6))\n",
        "plt.boxplot(hcho_reading_data.HCHO_reading, vert=False)\n",
        "plt.title('Boxplot - HCHO_reading')\n",
        "plt.xlabel('HCHO_reading')\n",
        "plt.ylabel('Distribution')\n",
        "plt.grid(True)\n",
        "plt.show()"
      ],
      "metadata": {
        "id": "NQogUqtnqv9a",
        "colab": {
          "base_uri": "https://localhost:8080/",
          "height": 564
        },
        "outputId": "ab683227-8f8d-42e9-a99d-67241e15189e"
      },
      "execution_count": 29,
      "outputs": [
        {
          "output_type": "display_data",
          "data": {
            "text/plain": [
              "<Figure size 800x600 with 1 Axes>"
            ],
            "image/png": "[encoded data removed]"
          },
          "metadata": {}
        }
      ]
    },
    {
      "cell_type": "markdown",
      "source": [
        "Summarize the dataset"
      ],
      "metadata": {
        "id": "gVhmr_DorBa8"
      }
    },
    {
      "cell_type": "code",
      "source": [
        "sl_hcho.groupBy('Location').agg(\n",
        "    mean('HCHO_reading').alias('mean(HCHO_reading)'),\n",
        "    median('HCHO_reading'),\n",
        "    stddev('HCHO_reading')).show()"
      ],
      "metadata": {
        "id": "0T3X6oFGq-qG",
        "colab": {
          "base_uri": "https://localhost:8080/"
        },
        "outputId": "26a73285-359a-4699-fa16-90175a665874"
      },
      "execution_count": 30,
      "outputs": [
        {
          "output_type": "stream",
          "name": "stdout",
          "text": [
            "+-------------------+--------------------+--------------------+--------------------+\n",
            "|           Location|  mean(HCHO_reading)|median(HCHO_reading)|stddev(HCHO_reading)|\n",
            "+-------------------+--------------------+--------------------+--------------------+\n",
            "|       Kandy Proper|9.834225722654409E-5|9.537965694244273E-5|7.482898630043512E-5|\n",
            "|   Deniyaya, Matara|8.774566217386048E-5|8.076289701838124E-5|7.278292783141768E-5|\n",
            "|  Kurunegala Proper|1.198328428369900...|1.132276678815462...|7.311285886861345E-5|\n",
            "| Bibile, Monaragala|1.163701369232310...| 1.14978897194216E-4|7.714504907578183E-5|\n",
            "|     Colombo Proper| 1.42281663280467E-4|1.383807546722804...| 7.81908232463991E-5|\n",
            "|Nuwara Eliya Proper|8.238239821646162E-5|7.624938460239996E-5|6.987607427439773E-5|\n",
            "|      Jaffna Proper|1.040500140572642...|  9.8657740674029E-5|6.358254396117346E-5|\n",
            "+-------------------+--------------------+--------------------+--------------------+\n",
            "\n"
          ]
        }
      ]
    },
    {
      "cell_type": "code",
      "source": [
        "sl_hcho.agg(\n",
        "    mean('HCHO_reading').alias('mean(HCHO_reading)'),\n",
        "    median('HCHO_reading'),\n",
        "    stddev('HCHO_reading')).show()"
      ],
      "metadata": {
        "id": "xjf9KAParOU2",
        "colab": {
          "base_uri": "https://localhost:8080/"
        },
        "outputId": "043828ca-dcf1-45e5-e878-2d25ba2d3d13"
      },
      "execution_count": 31,
      "outputs": [
        {
          "output_type": "stream",
          "name": "stdout",
          "text": [
            "+--------------------+--------------------+--------------------+\n",
            "|  mean(HCHO_reading)|median(HCHO_reading)|stddev(HCHO_reading)|\n",
            "+--------------------+--------------------+--------------------+\n",
            "|1.070609391628324...|1.021184410050649...|7.531763527734947E-5|\n",
            "+--------------------+--------------------+--------------------+\n",
            "\n"
          ]
        }
      ]
    },
    {
      "cell_type": "code",
      "source": [
        "pd_sl_hcho = sl_hcho.toPandas()"
      ],
      "metadata": {
        "id": "eqLZMLF-rQY0"
      },
      "execution_count": 32,
      "outputs": []
    },
    {
      "cell_type": "code",
      "source": [
        "sns.histplot(x='HCHO_reading', palette='rocket', hue='Location', data=pd_sl_hcho)\n",
        "plt.title(\"Histogram showcasing HCHO readings for locations\")\n",
        "plt.show()"
      ],
      "metadata": {
        "id": "eVSbel2mrYFF",
        "colab": {
          "base_uri": "https://localhost:8080/",
          "height": 472
        },
        "outputId": "6e37920d-b43b-4028-efe3-711ee155d400"
      },
      "execution_count": 33,
      "outputs": [
        {
          "output_type": "display_data",
          "data": {
            "text/plain": [
              "<Figure size 640x480 with 1 Axes>"
            ],
            "image/png": "[encoded data removed]"
          },
          "metadata": {}
        }
      ]
    },
    {
      "cell_type": "code",
      "source": [
        "sns.boxplot(x='HCHO_reading', palette='rocket', y='Location', data=pd_sl_hcho)\n",
        "plt.title(\"Boxplot showcasing HCHO readings for locations\")\n",
        "plt.show()"
      ],
      "metadata": {
        "id": "U_ikQmPhrYn8",
        "colab": {
          "base_uri": "https://localhost:8080/",
          "height": 559
        },
        "outputId": "26080f79-b3fa-49b1-b27e-249e7e75eca8"
      },
      "execution_count": 34,
      "outputs": [
        {
          "output_type": "stream",
          "name": "stderr",
          "text": [
            "<ipython-input-34-9b5cd5747674>:1: FutureWarning: \n",
            "\n",
            "Passing `palette` without assigning `hue` is deprecated and will be removed in v0.14.0. Assign the `y` variable to `hue` and set `legend=False` for the same effect.\n",
            "\n",
            "  sns.boxplot(x='HCHO_reading', palette='rocket', y='Location', data=pd_sl_hcho)\n"
          ]
        },
        {
          "output_type": "display_data",
          "data": {
            "text/plain": [
              "<Figure size 640x480 with 1 Axes>"
            ],
            "image/png": "[encoded data removed]"
          },
          "metadata": {}
        }
      ]
    },
    {
      "cell_type": "code",
      "source": [
        "sns.boxplot(x='HCHO_reading', data=pd_sl_hcho)\n",
        "plt.title('Boxplot showing the HCHO readings')\n",
        "plt.show()"
      ],
      "metadata": {
        "id": "L8eyf7zOrkyt",
        "colab": {
          "base_uri": "https://localhost:8080/",
          "height": 472
        },
        "outputId": "e3f9603c-d3e3-414f-afe3-f9386a974c02"
      },
      "execution_count": 35,
      "outputs": [
        {
          "output_type": "display_data",
          "data": {
            "text/plain": [
              "<Figure size 640x480 with 1 Axes>"
            ],
            "image/png": "[encoded data removed]"
          },
          "metadata": {}
        }
      ]
    }
  ]
}