{
  "nbformat": 4,
  "nbformat_minor": 0,
  "metadata": {
    "colab": {
      "provenance": [],
      "authorship_tag": "ABX9TyMT1MW5ipbKzUlTJHX0+CZl",
      "include_colab_link": true
    },
    "kernelspec": {
      "name": "python3",
      "display_name": "Python 3"
    },
    "language_info": {
      "name": "python"
    }
  },
  "cells": [
    {
      "cell_type": "markdown",
      "metadata": {
        "id": "view-in-github",
        "colab_type": "text"
      },
      "source": [
        "<a href=\"https://colab.research.google.com/github/Exper626/Census-Income-ML/blob/main/Machine_Learning.ipynb\" target=\"_parent\"><img src=\"https://colab.research.google.com/assets/colab-badge.svg\" alt=\"Open In Colab\"/></a>"
      ]
    },
    {
      "cell_type": "markdown",
      "source": [
        "Import necessary libraries"
      ],
      "metadata": {
        "id": "DD5NbFcDJACh"
      }
    },
    {
      "cell_type": "code",
      "source": [
        "import pandas as pd\n",
        "import numpy as np\n",
        "import matplotlib.pyplot as plt\n",
        "%matplotlib inline\n",
        "import seaborn as sns\n",
        "plt.style.use('dark_background')\n",
        "sns.set(color_codes=True)"
      ],
      "metadata": {
        "id": "GMoGoGzwJUTb"
      },
      "execution_count": 2,
      "outputs": []
    },
    {
      "cell_type": "markdown",
      "source": [
        "# Step 01: Data Preprocessing"
      ],
      "metadata": {
        "id": "cH3R_rdEJFSQ"
      }
    },
    {
      "cell_type": "markdown",
      "source": [
        "Load the data"
      ],
      "metadata": {
        "id": "wjQr-w91JW5H"
      }
    },
    {
      "cell_type": "code",
      "execution_count": 3,
      "metadata": {
        "colab": {
          "base_uri": "https://localhost:8080/"
        },
        "id": "xHaGyEPZI82S",
        "outputId": "c07a46ec-e8d9-4d2e-e781-a49a0bf6ad67"
      },
      "outputs": [
        {
          "output_type": "stream",
          "name": "stdout",
          "text": [
            "Collecting ucimlrepo\n",
            "  Downloading ucimlrepo-0.0.6-py3-none-any.whl (8.0 kB)\n",
            "Installing collected packages: ucimlrepo\n",
            "Successfully installed ucimlrepo-0.0.6\n"
          ]
        }
      ],
      "source": [
        "pip install ucimlrepo"
      ]
    },
    {
      "cell_type": "code",
      "source": [
        "from ucimlrepo import fetch_ucirepo\n",
        "\n",
        "# fetch dataset\n",
        "adult = fetch_ucirepo(id=2)\n",
        "\n",
        "# data (as pandas dataframes)\n",
        "X = adult.data.features\n",
        "y = adult.data.targets\n",
        "\n",
        "# metadata\n",
        "print(adult.metadata)\n",
        "\n",
        "# variable information\n",
        "print(adult.variables)"
      ],
      "metadata": {
        "colab": {
          "base_uri": "https://localhost:8080/"
        },
        "id": "_M9DAxjQJ6K1",
        "outputId": "9169ad4e-797e-4edb-c91a-da646471d5ac"
      },
      "execution_count": 4,
      "outputs": [
        {
          "output_type": "stream",
          "name": "stdout",
          "text": [
            "{'uci_id': 2, 'name': 'Adult', 'repository_url': 'https://archive.ics.uci.edu/dataset/2/adult', 'data_url': 'https://archive.ics.uci.edu/static/public/2/data.csv', 'abstract': 'Predict whether income exceeds $50K/yr based on census data. Also known as \"Census Income\" dataset. ', 'area': 'Social Science', 'tasks': ['Classification'], 'characteristics': ['Multivariate'], 'num_instances': 48842, 'num_features': 14, 'feature_types': ['Categorical', 'Integer'], 'demographics': ['Age', 'Income', 'Education Level', 'Other', 'Race', 'Sex'], 'target_col': ['income'], 'index_col': None, 'has_missing_values': 'yes', 'missing_values_symbol': 'NaN', 'year_of_dataset_creation': 1996, 'last_updated': 'Mon Aug 07 2023', 'dataset_doi': '10.24432/C5XW20', 'creators': ['Barry Becker', 'Ronny Kohavi'], 'intro_paper': None, 'additional_info': {'summary': 'Extraction was done by Barry Becker from the 1994 Census database.  A set of reasonably clean records was extracted using the following conditions: ((AAGE>16) && (AGI>100) && (AFNLWGT>1)&& (HRSWK>0))\\r\\n\\r\\nPrediction task is to determine whether a person makes over 50K a year.\\r\\n', 'purpose': None, 'funded_by': None, 'instances_represent': None, 'recommended_data_splits': None, 'sensitive_data': None, 'preprocessing_description': None, 'variable_info': 'Listing of attributes:\\r\\n\\r\\n>50K, <=50K.\\r\\n\\r\\nage: continuous.\\r\\nworkclass: Private, Self-emp-not-inc, Self-emp-inc, Federal-gov, Local-gov, State-gov, Without-pay, Never-worked.\\r\\nfnlwgt: continuous.\\r\\neducation: Bachelors, Some-college, 11th, HS-grad, Prof-school, Assoc-acdm, Assoc-voc, 9th, 7th-8th, 12th, Masters, 1st-4th, 10th, Doctorate, 5th-6th, Preschool.\\r\\neducation-num: continuous.\\r\\nmarital-status: Married-civ-spouse, Divorced, Never-married, Separated, Widowed, Married-spouse-absent, Married-AF-spouse.\\r\\noccupation: Tech-support, Craft-repair, Other-service, Sales, Exec-managerial, Prof-specialty, Handlers-cleaners, Machine-op-inspct, Adm-clerical, Farming-fishing, Transport-moving, Priv-house-serv, Protective-serv, Armed-Forces.\\r\\nrelationship: Wife, Own-child, Husband, Not-in-family, Other-relative, Unmarried.\\r\\nrace: White, Asian-Pac-Islander, Amer-Indian-Eskimo, Other, Black.\\r\\nsex: Female, Male.\\r\\ncapital-gain: continuous.\\r\\ncapital-loss: continuous.\\r\\nhours-per-week: continuous.\\r\\nnative-country: United-States, Cambodia, England, Puerto-Rico, Canada, Germany, Outlying-US(Guam-USVI-etc), India, Japan, Greece, South, China, Cuba, Iran, Honduras, Philippines, Italy, Poland, Jamaica, Vietnam, Mexico, Portugal, Ireland, France, Dominican-Republic, Laos, Ecuador, Taiwan, Haiti, Columbia, Hungary, Guatemala, Nicaragua, Scotland, Thailand, Yugoslavia, El-Salvador, Trinadad&Tobago, Peru, Hong, Holand-Netherlands.', 'citation': None}}\n",
            "              name     role         type      demographic  \\\n",
            "0              age  Feature      Integer              Age   \n",
            "1        workclass  Feature  Categorical           Income   \n",
            "2           fnlwgt  Feature      Integer             None   \n",
            "3        education  Feature  Categorical  Education Level   \n",
            "4    education-num  Feature      Integer  Education Level   \n",
            "5   marital-status  Feature  Categorical            Other   \n",
            "6       occupation  Feature  Categorical            Other   \n",
            "7     relationship  Feature  Categorical            Other   \n",
            "8             race  Feature  Categorical             Race   \n",
            "9              sex  Feature       Binary              Sex   \n",
            "10    capital-gain  Feature      Integer             None   \n",
            "11    capital-loss  Feature      Integer             None   \n",
            "12  hours-per-week  Feature      Integer             None   \n",
            "13  native-country  Feature  Categorical            Other   \n",
            "14          income   Target       Binary           Income   \n",
            "\n",
            "                                          description units missing_values  \n",
            "0                                                 N/A  None             no  \n",
            "1   Private, Self-emp-not-inc, Self-emp-inc, Feder...  None            yes  \n",
            "2                                                None  None             no  \n",
            "3    Bachelors, Some-college, 11th, HS-grad, Prof-...  None             no  \n",
            "4                                                None  None             no  \n",
            "5   Married-civ-spouse, Divorced, Never-married, S...  None             no  \n",
            "6   Tech-support, Craft-repair, Other-service, Sal...  None            yes  \n",
            "7   Wife, Own-child, Husband, Not-in-family, Other...  None             no  \n",
            "8   White, Asian-Pac-Islander, Amer-Indian-Eskimo,...  None             no  \n",
            "9                                       Female, Male.  None             no  \n",
            "10                                               None  None             no  \n",
            "11                                               None  None             no  \n",
            "12                                               None  None             no  \n",
            "13  United-States, Cambodia, England, Puerto-Rico,...  None            yes  \n",
            "14                                       >50K, <=50K.  None             no  \n"
          ]
        }
      ]
    },
    {
      "cell_type": "markdown",
      "source": [
        "missing values"
      ],
      "metadata": {
        "id": "RuCOqb1CMCoK"
      }
    },
    {
      "cell_type": "code",
      "source": [
        "missing_values = X.isnull().sum()\n",
        "print(missing_values)"
      ],
      "metadata": {
        "colab": {
          "base_uri": "https://localhost:8080/"
        },
        "id": "7ckxdH-vJ9ID",
        "outputId": "70a567d3-84f8-4f30-ed02-536d96955ecd"
      },
      "execution_count": 5,
      "outputs": [
        {
          "output_type": "stream",
          "name": "stdout",
          "text": [
            "age                 0\n",
            "workclass         963\n",
            "fnlwgt              0\n",
            "education           0\n",
            "education-num       0\n",
            "marital-status      0\n",
            "occupation        966\n",
            "relationship        0\n",
            "race                0\n",
            "sex                 0\n",
            "capital-gain        0\n",
            "capital-loss        0\n",
            "hours-per-week      0\n",
            "native-country    274\n",
            "dtype: int64\n"
          ]
        }
      ]
    },
    {
      "cell_type": "markdown",
      "source": [
        "fix the missing values"
      ],
      "metadata": {
        "id": "o-gGE9PgMGle"
      }
    },
    {
      "cell_type": "code",
      "source": [
        "X['workclass'].fillna('Unknown', inplace=True)"
      ],
      "metadata": {
        "colab": {
          "base_uri": "https://localhost:8080/"
        },
        "id": "oR9rFEtsKfH_",
        "outputId": "8f6688bb-108d-4390-946e-a29659ad0594"
      },
      "execution_count": 6,
      "outputs": [
        {
          "output_type": "stream",
          "name": "stderr",
          "text": [
            "<ipython-input-6-eeeaa1c2c771>:1: SettingWithCopyWarning: \n",
            "A value is trying to be set on a copy of a slice from a DataFrame\n",
            "\n",
            "See the caveats in the documentation: https://pandas.pydata.org/pandas-docs/stable/user_guide/indexing.html#returning-a-view-versus-a-copy\n",
            "  X['workclass'].fillna('Unknown', inplace=True)\n"
          ]
        }
      ]
    },
    {
      "cell_type": "code",
      "source": [
        "X['occupation'].fillna('Unknown', inplace=True)"
      ],
      "metadata": {
        "colab": {
          "base_uri": "https://localhost:8080/"
        },
        "id": "tk1Fr8M6Mw-q",
        "outputId": "e22285ff-096c-400f-aa58-a5beed8a553b"
      },
      "execution_count": 7,
      "outputs": [
        {
          "output_type": "stream",
          "name": "stderr",
          "text": [
            "<ipython-input-7-888611919944>:1: SettingWithCopyWarning: \n",
            "A value is trying to be set on a copy of a slice from a DataFrame\n",
            "\n",
            "See the caveats in the documentation: https://pandas.pydata.org/pandas-docs/stable/user_guide/indexing.html#returning-a-view-versus-a-copy\n",
            "  X['occupation'].fillna('Unknown', inplace=True)\n"
          ]
        }
      ]
    },
    {
      "cell_type": "code",
      "source": [
        "X['native-country'].fillna('Unknown', inplace=True)"
      ],
      "metadata": {
        "colab": {
          "base_uri": "https://localhost:8080/"
        },
        "id": "gIAKrdXNNCVJ",
        "outputId": "809812f9-dc95-441c-af39-ff24c2dbeb4b"
      },
      "execution_count": 8,
      "outputs": [
        {
          "output_type": "stream",
          "name": "stderr",
          "text": [
            "<ipython-input-8-2d996433734d>:1: SettingWithCopyWarning: \n",
            "A value is trying to be set on a copy of a slice from a DataFrame\n",
            "\n",
            "See the caveats in the documentation: https://pandas.pydata.org/pandas-docs/stable/user_guide/indexing.html#returning-a-view-versus-a-copy\n",
            "  X['native-country'].fillna('Unknown', inplace=True)\n"
          ]
        }
      ]
    },
    {
      "cell_type": "markdown",
      "source": [
        "check if it's ok"
      ],
      "metadata": {
        "id": "TimVlt82NH0G"
      }
    },
    {
      "cell_type": "code",
      "source": [
        "missing_values = X.isnull().sum()\n",
        "print(missing_values)"
      ],
      "metadata": {
        "colab": {
          "base_uri": "https://localhost:8080/"
        },
        "id": "V50HFASoNO45",
        "outputId": "5cdcfffb-1707-4ea0-e223-937f7dac2d6d"
      },
      "execution_count": 9,
      "outputs": [
        {
          "output_type": "stream",
          "name": "stdout",
          "text": [
            "age               0\n",
            "workclass         0\n",
            "fnlwgt            0\n",
            "education         0\n",
            "education-num     0\n",
            "marital-status    0\n",
            "occupation        0\n",
            "relationship      0\n",
            "race              0\n",
            "sex               0\n",
            "capital-gain      0\n",
            "capital-loss      0\n",
            "hours-per-week    0\n",
            "native-country    0\n",
            "dtype: int64\n"
          ]
        }
      ]
    },
    {
      "cell_type": "markdown",
      "source": [
        "now that we confirmed missing values is not present, we have to check the values"
      ],
      "metadata": {
        "id": "f0z1-138NRpM"
      }
    },
    {
      "cell_type": "code",
      "source": [
        "workclass_values = X['workclass'].unique()\n",
        "print(workclass_values)"
      ],
      "metadata": {
        "id": "0d3ckmeqNQ2d",
        "colab": {
          "base_uri": "https://localhost:8080/"
        },
        "outputId": "408dbcff-6790-4c5a-f6da-3b23012e219c"
      },
      "execution_count": 10,
      "outputs": [
        {
          "output_type": "stream",
          "name": "stdout",
          "text": [
            "['State-gov' 'Self-emp-not-inc' 'Private' 'Federal-gov' 'Local-gov' '?'\n",
            " 'Self-emp-inc' 'Without-pay' 'Never-worked' 'Unknown']\n"
          ]
        }
      ]
    },
    {
      "cell_type": "code",
      "source": [
        "for column in X.columns:\n",
        "    unique_values = X[column].unique()\n",
        "    print(f\"'{column}': {unique_values} \\n\")"
      ],
      "metadata": {
        "colab": {
          "base_uri": "https://localhost:8080/"
        },
        "id": "ws5hdyWyuWac",
        "outputId": "d6507515-debf-4dc3-9998-59cdabe11330"
      },
      "execution_count": 13,
      "outputs": [
        {
          "output_type": "stream",
          "name": "stdout",
          "text": [
            "'age': [39 50 38 53 28 37 49 52 31 42 30 23 32 40 34 25 43 54 35 59 56 19 20 45\n",
            " 22 48 21 24 57 44 41 29 18 47 46 36 79 27 67 33 76 17 55 61 70 64 71 68\n",
            " 66 51 58 26 60 90 75 65 77 62 63 80 72 74 69 73 81 78 88 82 83 84 85 86\n",
            " 87 89] \n",
            "\n",
            "'workclass': ['State-gov' 'Self-emp-not-inc' 'Private' 'Federal-gov' 'Local-gov' '?'\n",
            " 'Self-emp-inc' 'Without-pay' 'Never-worked' 'Unknown'] \n",
            "\n",
            "'fnlwgt': [ 77516  83311 215646 ... 173449  89686 350977] \n",
            "\n",
            "'education': ['Bachelors' 'HS-grad' '11th' 'Masters' '9th' 'Some-college' 'Assoc-acdm'\n",
            " 'Assoc-voc' '7th-8th' 'Doctorate' 'Prof-school' '5th-6th' '10th'\n",
            " '1st-4th' 'Preschool' '12th'] \n",
            "\n",
            "'education-num': [13  9  7 14  5 10 12 11  4 16 15  3  6  2  1  8] \n",
            "\n",
            "'marital-status': ['Never-married' 'Married-civ-spouse' 'Divorced' 'Married-spouse-absent'\n",
            " 'Separated' 'Married-AF-spouse' 'Widowed'] \n",
            "\n",
            "'occupation': ['Adm-clerical' 'Exec-managerial' 'Handlers-cleaners' 'Prof-specialty'\n",
            " 'Other-service' 'Sales' 'Craft-repair' 'Transport-moving'\n",
            " 'Farming-fishing' 'Machine-op-inspct' 'Tech-support' '?'\n",
            " 'Protective-serv' 'Armed-Forces' 'Priv-house-serv' 'Unknown'] \n",
            "\n",
            "'relationship': ['Not-in-family' 'Husband' 'Wife' 'Own-child' 'Unmarried' 'Other-relative'] \n",
            "\n",
            "'race': ['White' 'Black' 'Asian-Pac-Islander' 'Amer-Indian-Eskimo' 'Other'] \n",
            "\n",
            "'sex': ['Male' 'Female'] \n",
            "\n",
            "'capital-gain': [ 2174     0 14084  5178  5013  2407 14344 15024  7688 34095  4064  4386\n",
            "  7298  1409  3674  1055  3464  2050  2176   594 20051  6849  4101  1111\n",
            "  8614  3411  2597 25236  4650  9386  2463  3103 10605  2964  3325  2580\n",
            "  3471  4865 99999  6514  1471  2329  2105  2885 25124 10520  2202  2961\n",
            " 27828  6767  2228  1506 13550  2635  5556  4787  3781  3137  3818  3942\n",
            "   914   401  2829  2977  4934  2062  2354  5455 15020  1424  3273 22040\n",
            "  4416  3908 10566   991  4931  1086  7430  6497   114  7896  2346  3418\n",
            "  3432  2907  1151  2414  2290 15831 41310  4508  2538  3456  6418  1848\n",
            "  3887  5721  9562  1455  2036  1831 11678  2936  2993  7443  6360  1797\n",
            "  1173  4687  6723  2009  6097  2653  1639 18481  7978  2387  5060  1264\n",
            "  7262  1731  6612] \n",
            "\n",
            "'capital-loss': [   0 2042 1408 1902 1573 1887 1719 1762 1564 2179 1816 1980 1977 1876\n",
            " 1340 2206 1741 1485 2339 2415 1380 1721 2051 2377 1669 2352 1672  653\n",
            " 2392 1504 2001 1590 1651 1628 1848 1740 2002 1579 2258 1602  419 2547\n",
            " 2174 2205 1726 2444 1138 2238  625  213 1539  880 1668 1092 1594 3004\n",
            " 2231 1844  810 2824 2559 2057 1974  974 2149 1825 1735 1258 2129 2603\n",
            " 2282  323 4356 2246 1617 1648 2489 3770 1755 3683 2267 2080 2457  155\n",
            " 3900 2201 1944 2467 2163 2754 2472 1411 1429 3175 1510 1870 1911 2465\n",
            " 1421] \n",
            "\n",
            "'hours-per-week': [40 13 16 45 50 80 30 35 60 20 52 44 15 25 38 43 55 48 58 32 70  2 22 56\n",
            " 41 28 36 24 46 42 12 65  1 10 34 75 98 33 54  8  6 64 19 18 72  5  9 47\n",
            " 37 21 26 14  4 59  7 99 53 39 62 57 78 90 66 11 49 84  3 17 68 27 85 31\n",
            " 51 77 63 23 87 88 73 89 97 94 29 96 67 82 86 91 81 76 92 61 74 95 79 69] \n",
            "\n",
            "'native-country': ['United-States' 'Cuba' 'Jamaica' 'India' '?' 'Mexico' 'South'\n",
            " 'Puerto-Rico' 'Honduras' 'England' 'Canada' 'Germany' 'Iran'\n",
            " 'Philippines' 'Italy' 'Poland' 'Columbia' 'Cambodia' 'Thailand' 'Ecuador'\n",
            " 'Laos' 'Taiwan' 'Haiti' 'Portugal' 'Dominican-Republic' 'El-Salvador'\n",
            " 'France' 'Guatemala' 'China' 'Japan' 'Yugoslavia' 'Peru'\n",
            " 'Outlying-US(Guam-USVI-etc)' 'Scotland' 'Trinadad&Tobago' 'Greece'\n",
            " 'Nicaragua' 'Vietnam' 'Hong' 'Ireland' 'Hungary' 'Holand-Netherlands'\n",
            " 'Unknown'] \n",
            "\n"
          ]
        }
      ]
    }
  ]
}